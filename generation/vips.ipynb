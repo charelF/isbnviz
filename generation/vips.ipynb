{
 "cells": [
  {
   "cell_type": "code",
   "execution_count": null,
   "metadata": {},
   "outputs": [],
   "source": [
    "import pyvips\n",
    "\n",
    "imagename = \"image.png\"\n",
    "\n",
    "image = pyvips.Image.new_from_file(imagename)\n",
    "\n",
    "image.dzsave(\n",
    "    f\"../visualization/public/zoomify/{imagename.split('.')[0]}\", \n",
    "    layout=\"zoomify\",\n",
    "    compression=-1,\n",
    "    tile_size=256,\n",
    "    suffix=\".jpg[Q=100]\",\n",
    "    properties=False\n",
    ")"
   ]
  },
  {
   "cell_type": "code",
   "execution_count": 39,
   "metadata": {},
   "outputs": [],
   "source": [
    "# rm '../visualization/public/zoomify/image/ImageProperties.xml'"
   ]
  },
  {
   "cell_type": "code",
   "execution_count": 40,
   "metadata": {
    "vscode": {
     "languageId": "shellscript"
    }
   },
   "outputs": [],
   "source": [
    "rm '../visualization/public/zoomify/vips-properties.xml'"
   ]
  },
  {
   "cell_type": "code",
   "execution_count": 16,
   "metadata": {},
   "outputs": [],
   "source": [
    "# <!-- just use terminal:\n",
    "\n",
    "# `vips dzsave image.png ../visualization/public/zoomify/test1 --suffix '.png[Q=10]' --compression '9'` -->\n",
    "\n",
    "# actually no the terminal one doesnt seems to generate an output that works with openlayers\n",
    "\n",
    "# but it has better documentation"
   ]
  },
  {
   "cell_type": "code",
   "execution_count": null,
   "metadata": {},
   "outputs": [],
   "source": []
  },
  {
   "cell_type": "code",
   "execution_count": null,
   "metadata": {},
   "outputs": [
    {
     "name": "stdout",
     "output_type": "stream",
     "text": [
      "65536\n"
     ]
    }
   ],
   "source": [
    "import pyvips\n",
    "import numpy as np\n",
    "\n",
    "imagename = \"big.png\"\n",
    "\n",
    "p = 0.1\n",
    "N = 2**16\n",
    "print(N)\n",
    "tilesize = 256\n",
    "\n",
    "import numpy as np\n",
    "import random\n",
    "\n",
    "def toggle_random_areas(array, num_areas=10, max_size=1000):\n",
    "    rows, cols = array.shape\n",
    "    for _ in range(num_areas):\n",
    "        start_row = random.randint(0, rows - 1)\n",
    "        start_col = random.randint(0, cols - 1)\n",
    "        \n",
    "        width = random.randint(1, min(max_size, cols - start_col))\n",
    "        height = random.randint(1, min(max_size, rows - start_row))\n",
    "        \n",
    "        array[start_row:start_row + height, start_col:start_col + width] ^= True\n",
    "\n",
    "\n",
    "# Example usage\n",
    "array_size = (N,N)  # Create a large boolean array\n",
    "array = np.zeros(array_size, dtype=bool)\n",
    "\n",
    "toggle_random_areas(array, num_areas=10, max_size=100_000)\n",
    "toggle_random_areas(array, num_areas=100, max_size=10_000)\n",
    "toggle_random_areas(array, num_areas=1000, max_size=1000)\n",
    "toggle_random_areas(array, num_areas=10000, max_size=100)\n",
    "toggle_random_areas(array, num_areas=100000, max_size=10)\n",
    "toggle_random_areas(array, num_areas=500000, max_size=1)\n",
    "\n",
    "\n",
    "image = pyvips.Image.new_from_array(array)\n",
    "\n",
    "image.dzsave(\n",
    "    f\"../visualization/public/zoomify/{imagename.split('.')[0]}\", \n",
    "    layout=\"zoomify\",\n",
    "    compression=-1,\n",
    "    tile_size=tilesize,\n",
    "    suffix=\".jpg[Q=80]\",\n",
    "    properties=False,\n",
    "    # depth=\"one\"\n",
    ")"
   ]
  },
  {
   "cell_type": "code",
   "execution_count": null,
   "metadata": {},
   "outputs": [],
   "source": []
  }
 ],
 "metadata": {
  "kernelspec": {
   "display_name": ".venv",
   "language": "python",
   "name": "python3"
  },
  "language_info": {
   "codemirror_mode": {
    "name": "ipython",
    "version": 3
   },
   "file_extension": ".py",
   "mimetype": "text/x-python",
   "name": "python",
   "nbconvert_exporter": "python",
   "pygments_lexer": "ipython3",
   "version": "3.10.9"
  }
 },
 "nbformat": 4,
 "nbformat_minor": 2
}
