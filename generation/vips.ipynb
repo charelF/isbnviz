{
 "cells": [
  {
   "cell_type": "code",
   "execution_count": null,
   "metadata": {},
   "outputs": [],
   "source": [
    "import pyvips\n",
    "\n",
    "imagename = \"image.png\"\n",
    "\n",
    "image = pyvips.Image.new_from_file(imagename)\n",
    "\n",
    "image.dzsave(\n",
    "    f\"../visualization/public/zoomify/{imagename.split('.')[0]}\", \n",
    "    layout=\"zoomify\",\n",
    "    compression=-1,\n",
    "    suffix=\".jpg[Q=100]\",\n",
    "    properties=False\n",
    ")"
   ]
  },
  {
   "cell_type": "code",
   "execution_count": 39,
   "metadata": {},
   "outputs": [],
   "source": [
    "# rm '../visualization/public/zoomify/image/ImageProperties.xml'"
   ]
  },
  {
   "cell_type": "code",
   "execution_count": 40,
   "metadata": {
    "vscode": {
     "languageId": "shellscript"
    }
   },
   "outputs": [],
   "source": [
    "rm '../visualization/public/zoomify/vips-properties.xml'"
   ]
  },
  {
   "cell_type": "code",
   "execution_count": 16,
   "metadata": {},
   "outputs": [],
   "source": [
    "# <!-- just use terminal:\n",
    "\n",
    "# `vips dzsave image.png ../visualization/public/zoomify/test1 --suffix '.png[Q=10]' --compression '9'` -->\n",
    "\n",
    "# actually no the terminal one doesnt seems to generate an output that works with openlayers\n",
    "\n",
    "# but it has better documentation"
   ]
  }
 ],
 "metadata": {
  "kernelspec": {
   "display_name": ".venv",
   "language": "python",
   "name": "python3"
  },
  "language_info": {
   "codemirror_mode": {
    "name": "ipython",
    "version": 3
   },
   "file_extension": ".py",
   "mimetype": "text/x-python",
   "name": "python",
   "nbconvert_exporter": "python",
   "pygments_lexer": "ipython3",
   "version": "3.10.9"
  }
 },
 "nbformat": 4,
 "nbformat_minor": 2
}
